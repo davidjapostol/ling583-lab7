{
 "cells": [
  {
   "cell_type": "markdown",
   "id": "equivalent-germany",
   "metadata": {},
   "source": [
    "# LAB 7: Error analysis\n",
    "\n",
    "Objectives\n",
    "* Construct a  linear text classifier using SGDClassifier\n",
    "* Evaluate its performance and categorize the errors that it makes\n",
    "* Eaxmine model's coefficients and decision function values\n",
    "* Interpret model results using LIME"
   ]
  },
  {
   "cell_type": "code",
   "execution_count": 1,
   "id": "comparative-chance",
   "metadata": {},
   "outputs": [],
   "source": [
    "import numpy as np\n",
    "import pandas as pd\n",
    "from cytoolz import *\n",
    "from tqdm.auto import tqdm\n",
    "\n",
    "tqdm.pandas()"
   ]
  },
  {
   "cell_type": "markdown",
   "id": "defensive-testimony",
   "metadata": {},
   "source": [
    "---\n",
    "\n",
    "## Load data"
   ]
  },
  {
   "cell_type": "code",
   "execution_count": 2,
   "id": "funded-hours",
   "metadata": {},
   "outputs": [],
   "source": [
    "train = pd.read_parquet(\"s3://ling583/lab7-train.parquet\", storage_options={\"anon\":True})\n",
    "test = pd.read_parquet(\"s3://ling583/lab7-test.parquet\", storage_options={\"anon\":True})"
   ]
  },
  {
   "cell_type": "code",
   "execution_count": 3,
   "id": "worldwide-camera",
   "metadata": {},
   "outputs": [],
   "source": [
    "import cloudpickle\n",
    "from sklearn.metrics import classification_report, f1_score, plot_confusion_matrix"
   ]
  },
  {
   "cell_type": "code",
   "execution_count": 4,
   "id": "lasting-details",
   "metadata": {},
   "outputs": [],
   "source": [
    "sgd = cloudpickle.load(open(\"sgd.model\", \"rb\"))"
   ]
  },
  {
   "cell_type": "code",
   "execution_count": 5,
   "id": "rural-logic",
   "metadata": {},
   "outputs": [
    {
     "name": "stdout",
     "output_type": "stream",
     "text": [
      "              precision    recall  f1-score   support\n",
      "\n",
      "        GJOB       0.98      0.93      0.95       573\n",
      "        GPOL       0.94      0.96      0.95      1853\n",
      "        GSPO       1.00      0.99      1.00      1410\n",
      "        GVIO       0.92      0.91      0.92       928\n",
      "\n",
      "    accuracy                           0.96      4764\n",
      "   macro avg       0.96      0.95      0.95      4764\n",
      "weighted avg       0.96      0.96      0.96      4764\n",
      "\n"
     ]
    }
   ],
   "source": [
    "predicted = sgd.predict(test[\"text\"])\n",
    "print(classification_report(test[\"topics\"], predicted))"
   ]
  },
  {
   "cell_type": "markdown",
   "id": "computational-zambia",
   "metadata": {},
   "source": [
    "---\n",
    "\n",
    "## Decision function"
   ]
  },
  {
   "cell_type": "code",
   "execution_count": 6,
   "id": "aggressive-budget",
   "metadata": {},
   "outputs": [],
   "source": [
    "labels = sgd.named_steps['sgdclassifier'].classes_\n",
    "scores = sgd.decision_function(test[\"text\"])"
   ]
  },
  {
   "cell_type": "code",
   "execution_count": 7,
   "id": "curious-intent",
   "metadata": {},
   "outputs": [
    {
     "data": {
      "text/plain": [
       "array(['GJOB', 'GPOL', 'GSPO', 'GVIO'], dtype='<U4')"
      ]
     },
     "execution_count": 7,
     "metadata": {},
     "output_type": "execute_result"
    }
   ],
   "source": [
    "labels"
   ]
  },
  {
   "cell_type": "code",
   "execution_count": 8,
   "id": "gross-intermediate",
   "metadata": {},
   "outputs": [
    {
     "data": {
      "text/plain": [
       "array([ 0.01040488, -0.82868882, -0.98145051, -0.95546065])"
      ]
     },
     "execution_count": 8,
     "metadata": {},
     "output_type": "execute_result"
    }
   ],
   "source": [
    "scores[0,:]"
   ]
  },
  {
   "cell_type": "code",
   "execution_count": 9,
   "id": "industrial-fossil",
   "metadata": {},
   "outputs": [
    {
     "data": {
      "text/plain": [
       "'GJOB'"
      ]
     },
     "execution_count": 9,
     "metadata": {},
     "output_type": "execute_result"
    }
   ],
   "source": [
    "test['topics'].iloc[0]"
   ]
  },
  {
   "cell_type": "code",
   "execution_count": 10,
   "id": "former-berkeley",
   "metadata": {},
   "outputs": [
    {
     "data": {
      "text/plain": [
       "\"Canada's Terra Nova partners set labor agreement. A new labor agreement covering future operations at Newfoundland's Bull Arm construction site, where some work on the Terra Nova oil project is expected to be done, was completed on Monday, Terra Nova's partners said. The deal, signed by PCL Industrial Constructors Inc and the Newfoundland and Labrador Building and Construction Trades Council, will allow Bull Arm to be considered for the building of some of the oil platform's topsides. The key part of the deal was the formation of a single union representing workers at the site, the firms said.\""
      ]
     },
     "execution_count": 10,
     "metadata": {},
     "output_type": "execute_result"
    }
   ],
   "source": [
    "test['text'].iloc[0]"
   ]
  },
  {
   "cell_type": "code",
   "execution_count": 11,
   "id": "suffering-strand",
   "metadata": {},
   "outputs": [],
   "source": [
    "highest = scores.max(axis=1)"
   ]
  },
  {
   "cell_type": "code",
   "execution_count": 12,
   "id": "tough-calculation",
   "metadata": {},
   "outputs": [
    {
     "data": {
      "text/plain": [
       "0.010404884162301786"
      ]
     },
     "execution_count": 12,
     "metadata": {},
     "output_type": "execute_result"
    }
   ],
   "source": [
    "highest[0]"
   ]
  },
  {
   "cell_type": "code",
   "execution_count": 13,
   "id": "protecting-essay",
   "metadata": {},
   "outputs": [
    {
     "data": {
      "text/plain": [
       "3436"
      ]
     },
     "execution_count": 13,
     "metadata": {},
     "output_type": "execute_result"
    }
   ],
   "source": [
    "highest.argmax()"
   ]
  },
  {
   "cell_type": "code",
   "execution_count": 14,
   "id": "social-hierarchy",
   "metadata": {},
   "outputs": [
    {
     "data": {
      "text/plain": [
       "array([-2.94414605,  4.94424367, -2.4475834 , -3.94223344])"
      ]
     },
     "execution_count": 14,
     "metadata": {},
     "output_type": "execute_result"
    }
   ],
   "source": [
    "scores[3436]"
   ]
  },
  {
   "cell_type": "code",
   "execution_count": 16,
   "id": "harmful-strip",
   "metadata": {},
   "outputs": [
    {
     "data": {
      "text/plain": [
       "'GPOL'"
      ]
     },
     "execution_count": 16,
     "metadata": {},
     "output_type": "execute_result"
    }
   ],
   "source": [
    "test['topics'].iloc[3436]"
   ]
  },
  {
   "cell_type": "code",
   "execution_count": 17,
   "id": "backed-settlement",
   "metadata": {},
   "outputs": [
    {
     "data": {
      "text/plain": [
       "\"FRENCH ELECTION - HOW THEY VOTE. About 39 million French voters are entitled to vote in Sunday's first round of a two-stage election to choose a new National Assembly or lower house of parliament. President Jacques Chirac used his constitutional power to dissolve the Assembly on April 21 and called a snap election, 10 months ahead of schedule, for May 25 and June 1. The president, who appoints the prime minister and cabinet, may not dissolve parliament again in the first year of a new legislature. Some 6,389 candidates are vying for the 577 seats in single-member constituencies, the Interior Ministry said. The record is 29 candidates in a single electoral district in central Paris. A candidate who wins more than 50 percent of votes cast on the first ballot is elected without a runoff. Otherwise, any candidate who polls 12.5 percent of the total of registered voters has the right to contest the second ballot. The person who wins the most votes on the runoff is elected, even if he or she does not poll 50 percent. There are 555 constituencies in metropolitan France and 22 in overseas departments and territories. In most districts, the ruling conservative RPR-UDF coalition is running a single candidate, whereas the left-wing opposition parties are contesting the poll separately but will unite behind the best-placed opposition candidate on the runoff. As a result, more conservatives than left-wingers are expected to win seats outright on the first round, but that does not mean the coalition will necessarily win the election. Voting in metropolitan France takes place from 8 a.m. (0600 GMT) to 6 p.m. (1600 GMT) in most areas and 8 p.m. (1800 GMT) in Paris and major provincial citites. The first round of voting for the two seats in French Polynesia was held on May 17. The last overseas departments to vote are in France's Caribbean and South American territories. No results, projections or exit polls may be published until the last polling stations have closed in metropolitan France. By law, no opinion polls may be published in the last week before the first round or between the two rounds. On election night, television stations broadcast usually reliable projections of the outcome in votes and forecasts of the result in seats, usually in a spread, as soon as the last polls close at 8 p.m. (1800 GMT). The parties were allotted time for election broadcasts on public radio and television between May 5 and 23. Campaign spending and individual donations to parties are limited by law. Any party which fields 50 candidates or more receives public funds proportionate to the number of votes it polls. The centre-right coalition won a landslide majority in the last parliamentary election in March 1993. The turnout was 69.2 percent. The state of the parties in the outgoing Assembly was:     RPR (Gaullists)\\t\\t\\t 258     UDF (centre-right)\\t\\t    206     Socialist party and allies\\t   63     Communist party and allies\\t   24     Other left\\t\\t\\t\\t 12     Other right\\t\\t\\t\\t13     Vacant seat\\t\\t\\t\\t 1 The upper house, the Senate, is elected indirectly by local officials and is not affected by this election. -- Paris Newsroom +331 4221 5339\""
      ]
     },
     "execution_count": 17,
     "metadata": {},
     "output_type": "execute_result"
    }
   ],
   "source": [
    "test['text'].iloc[3436]"
   ]
  },
  {
   "cell_type": "code",
   "execution_count": 18,
   "id": "controlled-lease",
   "metadata": {},
   "outputs": [
    {
     "data": {
      "text/plain": [
       "3671"
      ]
     },
     "execution_count": 18,
     "metadata": {},
     "output_type": "execute_result"
    }
   ],
   "source": [
    "highest.argmin()"
   ]
  },
  {
   "cell_type": "code",
   "execution_count": 19,
   "id": "gothic-norwegian",
   "metadata": {},
   "outputs": [
    {
     "data": {
      "text/plain": [
       "array([-0.51479466, -0.55764263, -1.1871635 , -0.8100354 ])"
      ]
     },
     "execution_count": 19,
     "metadata": {},
     "output_type": "execute_result"
    }
   ],
   "source": [
    "scores[3671]"
   ]
  },
  {
   "cell_type": "code",
   "execution_count": 21,
   "id": "express-chambers",
   "metadata": {},
   "outputs": [
    {
     "data": {
      "text/plain": [
       "'GJOB'"
      ]
     },
     "execution_count": 21,
     "metadata": {},
     "output_type": "execute_result"
    }
   ],
   "source": [
    "test['topics'].iloc[3671]"
   ]
  },
  {
   "cell_type": "code",
   "execution_count": 22,
   "id": "afraid-ending",
   "metadata": {},
   "outputs": [
    {
     "data": {
      "text/plain": [
       "'FEATURE-Tea estate workers struggle with poverty. Impoverished tea estate workers, mainly of Indian Tamil origin, have toiled for decades to bring Sri Lanka fame as the world\\'s biggest tea exporter and make \"Ceylon tea\" its main net foreign exchange earner. But life has hardly changed for them since British colonial rulers imported their forebears, landless peasants from south India, in the 19th century to develop the tea estates under an authoritarian labour system. Many still live in primitive barrack-type \"line rooms\" without proper ventilation, water supply or sanitation. Today, with Sri Lankan tea prices soaring to record levels, propelled mainly by heavy Russian buying after being in the doldrums for years, calls are being made to improve the lot of the plantation community. \"With the rise in tea prices, there should be a programme to improve workers\\' welfare,\" said Professor S. Sandarasegaran of Colombo University. \"They are a backward community. There was some improvement in their living standard but it is still below the national level,\" Sandarasegaran, who is of Indian Tamil origin, told Reuters. Deputy Minister of Plantation Housing, Periasamy Chandrasekeran, also of Indian Tamil origin, recently called for action to educate the community politically and improve its economic, social and educational situation. Part of the community is still grappling with the problem of not having Sri Lankan citizenship. Some 150,000 Indian Tamils should have been sent to India under several agreements between the two neighbours but repatriation was delayed and now they want to stay. \"Most of them have no links with Tamil Nadu (in south India),\" said Periannanpillai Devaraj, vice-president of the Ceylon Workers Congress (CWC), the biggest estate labour union. \"India is as foreign to them as Sri Lanka.\" The CWC had asked the government to grant citizenship to the 150,000 whose parents had originally applied for Indian citizenship for them. \"Now their parents are dead and they don\\'t want to go because they have no links there,\" said Sandarasegaran. Indian Tamils became stateless when the first Sri Lankan government after independence in 1948 deprived them of citizenship. But in 1988 the government gave citizenship to the last of the stateless people who had applied for Sri Lankan citizenship. Sene Seneviratne, secretary-general of the Ceylon Planters\\' Association, said living standards of estate workers had improved steadily over the past 25 years. \"They are virtually looked after from the womb to the tomb,\" he told Reuters. \"But it is a gigantic problem which cannot be solved overnight mainly because of the numbers involved. A lot has to be done and it is being done.\" Sri Lankan tea exports crossed the 235 million kilogram (518 million pounds) mark for the first time in 1995, against 229 million kg (505 million lb) in 1994. Tea export earnings in the first seven months of this year rose 38 percent to 18.4 billion rupees ($335 million) from 13.3 billion rupees ($242 million) in the same period last year, brokers Forbes and Walker said. Sandarasegaran said the surplus made in the industry was used to improve other sectors, such as the national health and education service, to the neglect of the estate community. \"This is our complaint,\" he said. The industry, providing direct employment to 750,000 workers and accounting for about two percent of gross national product, was also burdened by heavy government taxes, he said.'"
      ]
     },
     "execution_count": 22,
     "metadata": {},
     "output_type": "execute_result"
    }
   ],
   "source": [
    "test['text'].iloc[3671]"
   ]
  },
  {
   "cell_type": "code",
   "execution_count": 23,
   "id": "swiss-privacy",
   "metadata": {},
   "outputs": [
    {
     "data": {
      "text/plain": [
       "array([[ 0.01040488, -0.82868882, -0.98145051, -0.95546065],\n",
       "       [-1.54116367,  1.29674861, -1.54873447, -1.39712073],\n",
       "       [-1.32646971,  1.24431965, -1.54157136, -1.26048996],\n",
       "       [-1.44113577, -1.31279617,  1.65111521, -1.56040144],\n",
       "       [ 0.58781835, -0.63347291, -1.13888298, -2.21369774]])"
      ]
     },
     "execution_count": 23,
     "metadata": {},
     "output_type": "execute_result"
    }
   ],
   "source": [
    "scores[0:5,:]"
   ]
  },
  {
   "cell_type": "code",
   "execution_count": 24,
   "id": "corresponding-birthday",
   "metadata": {},
   "outputs": [
    {
     "data": {
      "text/plain": [
       "array([[-0.98145051, -0.95546065, -0.82868882,  0.01040488],\n",
       "       [-1.54873447, -1.54116367, -1.39712073,  1.29674861],\n",
       "       [-1.54157136, -1.32646971, -1.26048996,  1.24431965],\n",
       "       [-1.56040144, -1.44113577, -1.31279617,  1.65111521],\n",
       "       [-2.21369774, -1.13888298, -0.63347291,  0.58781835]])"
      ]
     },
     "execution_count": 24,
     "metadata": {},
     "output_type": "execute_result"
    }
   ],
   "source": [
    "scores.sort(axis=1)\n",
    "scores[0:5,:]"
   ]
  },
  {
   "cell_type": "code",
   "execution_count": 25,
   "id": "hollywood-triple",
   "metadata": {},
   "outputs": [],
   "source": [
    "margin = scores[:,3]-scores[:,2]"
   ]
  },
  {
   "cell_type": "code",
   "execution_count": 26,
   "id": "minute-encoding",
   "metadata": {},
   "outputs": [
    {
     "data": {
      "text/plain": [
       "(7.391827072805114, 0.0013604933888193838)"
      ]
     },
     "execution_count": 26,
     "metadata": {},
     "output_type": "execute_result"
    }
   ],
   "source": [
    "margin.max(), margin.min()"
   ]
  },
  {
   "cell_type": "code",
   "execution_count": 27,
   "id": "artificial-trout",
   "metadata": {},
   "outputs": [
    {
     "name": "stdout",
     "output_type": "stream",
     "text": [
      "              precision    recall  f1-score   support\n",
      "\n",
      "        GJOB       1.00      1.00      1.00        14\n",
      "        GPOL       1.00      1.00      1.00        69\n",
      "        GSPO       1.00      1.00      1.00         7\n",
      "        GVIO       1.00      1.00      1.00         8\n",
      "\n",
      "    accuracy                           1.00        98\n",
      "   macro avg       1.00      1.00      1.00        98\n",
      "weighted avg       1.00      1.00      1.00        98\n",
      "\n"
     ]
    }
   ],
   "source": [
    "print(classification_report(test[\"topics\"][margin > 5], predicted[margin > 5]))"
   ]
  },
  {
   "cell_type": "code",
   "execution_count": 28,
   "id": "virgin-prophet",
   "metadata": {},
   "outputs": [],
   "source": [
    "import matplotlib.pyplot as plt"
   ]
  },
  {
   "cell_type": "code",
   "execution_count": 29,
   "id": "expanded-boost",
   "metadata": {},
   "outputs": [
    {
     "data": {
      "text/plain": [
       "Text(0, 0.5, 'F1')"
      ]
     },
     "execution_count": 29,
     "metadata": {},
     "output_type": "execute_result"
    },
    {
     "data": {
      "image/png": "[encoded data removed]",
      "text/plain": [
       "<Figure size 432x288 with 1 Axes>"
      ]
     },
     "metadata": {
      "needs_background": "light"
     },
     "output_type": "display_data"
    }
   ],
   "source": [
    "thresh = np.linspace(-2, 3, 50)\n",
    "x = [100*(1-sum(margin > t)/len(margin)) for t in thresh]\n",
    "y = [f1_score(test[\"topics\"][margin > t], predicted[margin > t], average=\"macro\") for t in thresh]\n",
    "plt.plot(x, y)\n",
    "plt.xlabel('% Unknowns')\n",
    "plt.ylabel('F1')"
   ]
  },
  {
   "cell_type": "code",
   "execution_count": 30,
   "id": "pacific-antarctica",
   "metadata": {},
   "outputs": [
    {
     "name": "stdout",
     "output_type": "stream",
     "text": [
      "              precision    recall  f1-score   support\n",
      "\n",
      "        GJOB       1.00      0.99      0.99       423\n",
      "        GPOL       0.99      0.99      0.99      1438\n",
      "        GSPO       1.00      1.00      1.00      1303\n",
      "        GVIO       0.98      0.98      0.98       624\n",
      "\n",
      "    accuracy                           0.99      3788\n",
      "   macro avg       0.99      0.99      0.99      3788\n",
      "weighted avg       0.99      0.99      0.99      3788\n",
      "\n"
     ]
    }
   ],
   "source": [
    "print(classification_report(test[\"topics\"][margin > 1.75], predicted[margin > 1.75]))"
   ]
  },
  {
   "cell_type": "markdown",
   "id": "monetary-hardware",
   "metadata": {},
   "source": [
    "**TO DO:** Summarize your results for this section. What could we do if we wanted to make label as many examples as possible while still keeping F1 above 0.99?"
   ]
  },
  {
   "cell_type": "markdown",
   "id": "medium-forum",
   "metadata": {},
   "source": [
    "We could exclude 20% of the articles used for classification, as the graph above tells us that anything 20% lower than the unknowns are smaller than the f1-scores. And the articles that are lower than the f1-scores can be classified by humans to do the labeling work as the computer is going to be accurate on labels with high f1-scores. In addition to that, we could also try considering changing the margins as it could possibly reduce the percentage of the unknowns based on the graph as margins determine how many articles we should exclude by choosing the amount of filter to be put in place."
   ]
  },
  {
   "cell_type": "markdown",
   "id": "convenient-interview",
   "metadata": {},
   "source": [
    "---\n",
    "\n",
    "## Model parameters"
   ]
  },
  {
   "cell_type": "code",
   "execution_count": 31,
   "id": "annual-wichita",
   "metadata": {},
   "outputs": [
    {
     "data": {
      "text/plain": [
       "(array(['GJOB', 'GPOL', 'GSPO', 'GVIO'], dtype='<U4'),\n",
       " array([[-0.26937097, -0.01556053,  0.1348538 , ...,  0.        ,\n",
       "          0.        ,  0.        ],\n",
       "        [ 0.35183383, -0.11800598, -0.04930472, ...,  0.00283071,\n",
       "          0.        ,  0.00542061],\n",
       "        [ 0.08043354,  0.05052013,  0.00922318, ...,  0.        ,\n",
       "          0.        , -0.00550877],\n",
       "        [-0.28388856,  0.        ,  0.03319324, ...,  0.        ,\n",
       "          0.        , -0.01448666]]))"
      ]
     },
     "execution_count": 31,
     "metadata": {},
     "output_type": "execute_result"
    }
   ],
   "source": [
    "coef = sgd.named_steps['sgdclassifier'].coef_\n",
    "labels, coef"
   ]
  },
  {
   "cell_type": "code",
   "execution_count": 32,
   "id": "reflected-advantage",
   "metadata": {},
   "outputs": [
    {
     "data": {
      "text/plain": [
       "(4, 27939)"
      ]
     },
     "execution_count": 32,
     "metadata": {},
     "output_type": "execute_result"
    }
   ],
   "source": [
    "coef.shape"
   ]
  },
  {
   "cell_type": "code",
   "execution_count": 33,
   "id": "several-asbestos",
   "metadata": {},
   "outputs": [],
   "source": [
    "vocab = sgd.named_steps['countvectorizer'].get_feature_names()"
   ]
  },
  {
   "cell_type": "code",
   "execution_count": 34,
   "id": "ideal-silicon",
   "metadata": {},
   "outputs": [
    {
     "data": {
      "text/plain": [
       "13100"
      ]
     },
     "execution_count": 34,
     "metadata": {},
     "output_type": "execute_result"
    }
   ],
   "source": [
    "coef[0,:].argmax()"
   ]
  },
  {
   "cell_type": "code",
   "execution_count": 35,
   "id": "dense-resident",
   "metadata": {},
   "outputs": [
    {
     "data": {
      "text/plain": [
       "4.538826464597272"
      ]
     },
     "execution_count": 35,
     "metadata": {},
     "output_type": "execute_result"
    }
   ],
   "source": [
    "coef[0,13100]"
   ]
  },
  {
   "cell_type": "code",
   "execution_count": 36,
   "id": "comic-lexington",
   "metadata": {},
   "outputs": [
    {
     "data": {
      "text/plain": [
       "'jobs'"
      ]
     },
     "execution_count": 36,
     "metadata": {},
     "output_type": "execute_result"
    }
   ],
   "source": [
    "vocab[13100]"
   ]
  },
  {
   "cell_type": "code",
   "execution_count": 37,
   "id": "early-cardiff",
   "metadata": {},
   "outputs": [
    {
     "name": "stdout",
     "output_type": "stream",
     "text": [
      "GJOB\n",
      "  jobs             4.539\n",
      "  strike           4.285\n",
      "  employees        3.853\n",
      "  workers          3.729\n",
      "  unemployment     3.675\n",
      "  company          2.742\n",
      "  union            2.643\n",
      "  unions           2.574\n",
      "  wages            2.427\n",
      "  wage             2.403\n",
      "  welfare         -0.986\n",
      "  political       -0.989\n",
      "  parliament      -1.056\n",
      "  war             -1.073\n",
      "  clinton         -1.115\n",
      "  spending        -1.119\n",
      "  tax             -1.208\n",
      "  security        -1.274\n",
      "  budget          -1.471\n",
      "  election        -1.737\n",
      "\n",
      "GPOL\n",
      "  election         3.783\n",
      "  party            3.159\n",
      "  elections        2.983\n",
      "  parliament       2.829\n",
      "  minister         2.815\n",
      "  president        2.611\n",
      "  vote             2.500\n",
      "  budget           2.210\n",
      "  clinton          2.064\n",
      "  yeltsin          1.948\n",
      "  union           -2.158\n",
      "  rebels          -2.209\n",
      "  bombing         -2.254\n",
      "  strike          -2.489\n",
      "  unions          -2.563\n",
      "  employees       -2.567\n",
      "  soccer          -2.682\n",
      "  protest         -2.929\n",
      "  workers         -3.166\n",
      "  unemployment    -3.300\n",
      "\n",
      "GSPO\n",
      "  soccer           3.951\n",
      "  match            2.359\n",
      "  cup              2.350\n",
      "  club             2.336\n",
      "  olympic          2.134\n",
      "  racing           1.927\n",
      "  league           1.907\n",
      "  games            1.855\n",
      "  cricket          1.850\n",
      "  team             1.821\n",
      "  company         -1.074\n",
      "  state           -1.127\n",
      "  election        -1.134\n",
      "  labor           -1.188\n",
      "  government      -1.239\n",
      "  president       -1.240\n",
      "  percent         -1.311\n",
      "  clinton         -1.373\n",
      "  party           -1.375\n",
      "  newsroom        -1.407\n",
      "\n",
      "GVIO\n",
      "  bombing          2.631\n",
      "  rebels           2.628\n",
      "  bomb             2.585\n",
      "  troops           2.303\n",
      "  peace            2.292\n",
      "  zaire            2.212\n",
      "  protest          2.173\n",
      "  killed           2.101\n",
      "  attack           2.100\n",
      "  police           2.099\n",
      "  president       -1.269\n",
      "  his             -1.288\n",
      "  fans            -1.366\n",
      "  soccer          -1.458\n",
      "  party           -1.460\n",
      "  minister        -1.504\n",
      "  parliament      -1.568\n",
      "  strike          -2.045\n",
      "  vote            -2.066\n",
      "  election        -2.126\n",
      "\n"
     ]
    }
   ],
   "source": [
    "ranked = np.argsort(coef, axis=1)\n",
    "for i, label in enumerate(labels):\n",
    "    print(label)\n",
    "    for j in concat([range(-1, -11, -1), range(10, 0, -1)]):\n",
    "        print(f'  {vocab[ranked[i,j]]:15s} {coef[i, ranked[i,j]]:6.3f}')\n",
    "    print()"
   ]
  },
  {
   "cell_type": "code",
   "execution_count": 38,
   "id": "documented-taste",
   "metadata": {},
   "outputs": [],
   "source": [
    "from kwic import kwic"
   ]
  },
  {
   "cell_type": "code",
   "execution_count": 39,
   "id": "existing-persian",
   "metadata": {},
   "outputs": [
    {
     "data": {
      "text/html": [
       "<table><tr><td>4</td>                      <td style=\"text-align:right;white-space:nowrap\">l Amendment would appear on the state ballot next year. ((-- San Francisco </td>                      <td style=\"text-align:center;white-space:nowrap\">newsroom</td>                      <td style=\"text-align:left;white-space:nowrap\">, 415-677-2511))                                                           </td></tr><tr><td>5</td>                      <td style=\"text-align:right;white-space:nowrap\">be called but it need not necessarily result in a work stoppage. -- Warsaw </td>                      <td style=\"text-align:center;white-space:nowrap\">Newsroom</td>                      <td style=\"text-align:left;white-space:nowrap\"> +48 22 653 9700                                                           </td></tr><tr><td>14</td>                      <td style=\"text-align:right;white-space:nowrap\">0 tonnes) and wheat ship (9,125 tonnes) --Caroline Bulloch, Rio de Janeiro </td>                      <td style=\"text-align:center;white-space:nowrap\">newsroom</td>                      <td style=\"text-align:left;white-space:nowrap\">, 5521 5074151                                                             </td></tr><tr><td>15</td>                      <td style=\"text-align:right;white-space:nowrap\"> the top tax rate and proposed taxes on night- and holiday shifts. -- Bonn </td>                      <td style=\"text-align:center;white-space:nowrap\">newsroom</td>                      <td style=\"text-align:left;white-space:nowrap\">, 49-228-26097150                                                          </td></tr><tr><td>21</td>                      <td style=\"text-align:right;white-space:nowrap\">t had so far sought to put the new law into effect. --Mark John, Frankfurt </td>                      <td style=\"text-align:center;white-space:nowrap\">Newsroom</td>                      <td style=\"text-align:left;white-space:nowrap\"> +49 69 756525                                                             </td></tr><tr><td>37</td>                      <td style=\"text-align:right;white-space:nowrap\">p of the conservative New Democracy party. --Dimitris Kontogiannis, Athens </td>                      <td style=\"text-align:center;white-space:nowrap\">Newsroom</td>                      <td style=\"text-align:left;white-space:nowrap\"> +301 3311812-4                                                            </td></tr><tr><td>52</td>                      <td style=\"text-align:right;white-space:nowrap\"> saying they would vote compared to 64.6 percent of CSSD voters. -- Prague </td>                      <td style=\"text-align:center;white-space:nowrap\">Newsroom</td>                      <td style=\"text-align:left;white-space:nowrap\"> 42-2-2423-0003                                                            </td></tr><tr><td>56</td>                      <td style=\"text-align:right;white-space:nowrap\">nment and a widepread perception that bureaucrats were corrupt. -- Vilnius </td>                      <td style=\"text-align:center;white-space:nowrap\">newsroom</td>                      <td style=\"text-align:left;white-space:nowrap\">, +370 2 22 35 17                                                          </td></tr><tr><td>76</td>                      <td style=\"text-align:right;white-space:nowrap\">on on the person likely to replace Malakis. --George Georgiopoulos, Athens </td>                      <td style=\"text-align:center;white-space:nowrap\">Newsroom</td>                      <td style=\"text-align:left;white-space:nowrap\"> +301 3311812-4                                                            </td></tr><tr><td>83</td>                      <td style=\"text-align:right;white-space:nowrap\"> A promise without a cost is nearly always a lie.\" -- Mike Peacock, London </td>                      <td style=\"text-align:center;white-space:nowrap\">Newsroom</td>                      <td style=\"text-align:left;white-space:nowrap\"> +44 171 542 5109                                                          </td></tr></table>"
      ],
      "text/plain": [
       "<IPython.core.display.HTML object>"
      ]
     },
     "metadata": {},
     "output_type": "display_data"
    }
   ],
   "source": [
    "kwic('newsroom', train['text'])"
   ]
  },
  {
   "cell_type": "code",
   "execution_count": 40,
   "id": "incomplete-yemen",
   "metadata": {},
   "outputs": [
    {
     "data": {
      "text/html": [
       "<table><tr><td>32</td>                      <td style=\"text-align:right;white-space:nowrap\">rebels assure mining firms of continuity. Rebels on the advance in eastern </td>                      <td style=\"text-align:center;white-space:nowrap\">Zaire</td>                      <td style=\"text-align:left;white-space:nowrap\"> will leave mining concessions untouched in the areas they control, provide</td></tr><tr><td>33</td>                      <td style=\"text-align:right;white-space:nowrap\">                                                   Kabila, Mobutu agree to </td>                      <td style=\"text-align:center;white-space:nowrap\">Zaire</td>                      <td style=\"text-align:left;white-space:nowrap\"> talks Wednesday - UN. Zaire's beleaguered president Mobutu Sese Seko and r</td></tr><tr><td>33</td>                      <td style=\"text-align:right;white-space:nowrap\">                       Kabila, Mobutu agree to Zaire talks Wednesday - UN. </td>                      <td style=\"text-align:center;white-space:nowrap\">Zaire</td>                      <td style=\"text-align:left;white-space:nowrap\">'s beleaguered president Mobutu Sese Seko and rebel leader Laurent Kabila h</td></tr><tr><td>33</td>                      <td style=\"text-align:right;white-space:nowrap\">rt of a South African attempt to mediate a peaceful transition of power in </td>                      <td style=\"text-align:center;white-space:nowrap\">Zaire</td>                      <td style=\"text-align:left;white-space:nowrap\">. Kabila's rebels now control three quarters of the country and Mobutu has </td></tr><tr><td>38</td>                      <td style=\"text-align:right;white-space:nowrap\">ops who were trapped at the airport and had threatening to rain rockets on </td>                      <td style=\"text-align:center;white-space:nowrap\">Zaire</td>                      <td style=\"text-align:left;white-space:nowrap\">'s second city. A day after the rebel takeover, residents looted army premi</td></tr><tr><td>38</td>                      <td style=\"text-align:right;white-space:nowrap\"> in on from all sides. Disciplined columns of Kabila's forces marched into </td>                      <td style=\"text-align:center;white-space:nowrap\">Zaire</td>                      <td style=\"text-align:left;white-space:nowrap\">'s copper capital and economic powerhouse on Wednesday morning. The army la</td></tr><tr><td>86</td>                      <td style=\"text-align:right;white-space:nowrap\">                                                          S.Africa to host </td>                      <td style=\"text-align:center;white-space:nowrap\">Zaire</td>                      <td style=\"text-align:left;white-space:nowrap\"> government, rebels for talks. Zaire's warring sides have asked President N</td></tr><tr><td>86</td>                      <td style=\"text-align:right;white-space:nowrap\">                      S.Africa to host Zaire government, rebels for talks. </td>                      <td style=\"text-align:center;white-space:nowrap\">Zaire</td>                      <td style=\"text-align:left;white-space:nowrap\">'s warring sides have asked President Nelson Mandela of South Africa to hos</td></tr><tr><td>86</td>                      <td style=\"text-align:right;white-space:nowrap\">s,\" Mandela said. He said South Africa would send air transport to pick up </td>                      <td style=\"text-align:center;white-space:nowrap\">Zaire</td>                      <td style=\"text-align:left;white-space:nowrap\">'s rebel leader Laurent Kabila from Kigali in Rwanda and that he hoped the </td></tr><tr><td>86</td>                      <td style=\"text-align:right;white-space:nowrap\">s in Cape Town with regional leaders on how to defuse growing conflicts in </td>                      <td style=\"text-align:center;white-space:nowrap\">Zaire</td>                      <td style=\"text-align:left;white-space:nowrap\"> and in southern Africa. Fighting in Zaire has intensified, with ailing Pre</td></tr></table>"
      ],
      "text/plain": [
       "<IPython.core.display.HTML object>"
      ]
     },
     "metadata": {},
     "output_type": "display_data"
    }
   ],
   "source": [
    "kwic('zaire', train['text'])"
   ]
  },
  {
   "cell_type": "markdown",
   "id": "regular-discipline",
   "metadata": {},
   "source": [
    "**TO DO:** What can you conclude about the model from looking at the coefficients? Is there evidence of overfitting? How could we improve the results?"
   ]
  },
  {
   "cell_type": "markdown",
   "id": "distributed-sitting",
   "metadata": {},
   "source": [
    "We can conclude from looking at the coefficients that the model is dependent on the labeling of articles by specific unique words that occur within in these articles, and use some kind of measure to classify the word itself with other words that have been already classified. One example of this is with the word \"bombing\" in the context of violence, as it has a negative connotation as an act of violence to classify the article as \"violence\". Conversely, the word \"soccer\" is considerd a neutral word for it to not classify the article as \"violence\". \n",
    "\n",
    "There is evidence of overfitting in the form of the name \"Clinton\", as it's not a word that's normally associated with politics, but rather the name of famous political figures being mentioned in these articles where politics is part of their career. It would seem that the coefficients for the name \"Clinton\" is high as well in articles labeled politics.\n",
    "One way to improve the results, would be to exclude \"overtraining\" words that would label articles with unusual circumstances. For example, excluding the word \"Zaire\", as it's a word that is normally associated with violence since it's a country dealing with war due to totalitarian military government."
   ]
  },
  {
   "cell_type": "code",
   "execution_count": null,
   "id": "decreased-success",
   "metadata": {},
   "outputs": [],
   "source": []
  }
 ],
 "metadata": {
  "kernelspec": {
   "display_name": "Python 3",
   "language": "python",
   "name": "python3"
  },
  "language_info": {
   "codemirror_mode": {
    "name": "ipython",
    "version": 3
   },
   "file_extension": ".py",
   "mimetype": "text/x-python",
   "name": "python",
   "nbconvert_exporter": "python",
   "pygments_lexer": "ipython3",
   "version": "3.8.6"
  }
 },
 "nbformat": 4,
 "nbformat_minor": 5
}
